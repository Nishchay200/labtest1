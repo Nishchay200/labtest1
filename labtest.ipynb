{
 "cells": [
  {
   "cell_type": "code",
   "execution_count": 21,
   "id": "88064f57-a31f-4dee-8896-5d98956f595f",
   "metadata": {},
   "outputs": [
    {
     "name": "stdout",
     "output_type": "stream",
     "text": [
      "150000\n",
      "50000\n"
     ]
    },
    {
     "data": {
      "text/plain": [
       "<matplotlib.collections.PathCollection at 0x1485519ff80>"
      ]
     },
     "execution_count": 21,
     "metadata": {},
     "output_type": "execute_result"
    },
    {
     "data": {
      "image/png": "[encoded data removed]",
      "text/plain": [
       "<Figure size 640x480 with 1 Axes>"
      ]
     },
     "metadata": {},
     "output_type": "display_data"
    }
   ],
   "source": [
    "import numpy as np\n",
    "from scipy import linalg\n",
    "import matplotlib.pyplot as plt\n",
    "def addempoyee(manage,size):\n",
    "    name1=inputt(\"enter name of employee\")\n",
    "    salary1=inputt(\"enter salary of employee\")\n",
    "    desg=input(\"enter designation\")\n",
    "    perfom=input(\"enter performance\")\n",
    "    #manage[size+1,0]=name1\n",
    "    #manage[size+1,1]=salary1\n",
    "    #manage[size+1,2]=desg\n",
    "    #manage[size+1,3]=perform\n",
    "    size=size+1\n",
    "\n",
    "#def changeperformance(manage,name):\n",
    " #   i=0\n",
    "  #  while(i<size):\n",
    "   #     if(manage[i,0]==name):\n",
    "            #new=input(\"enter new performance\")\n",
    "            #manage[i,4]=new\n",
    "\n",
    "\n",
    "managementsys=np.array([[\"Nishchay\",100000,\"Manager\",\"Rohtak\",4],\n",
    "                       [\"abc\",150000,\"SDE\",\"Noida\",4],\n",
    "                       [\"def\",50000,\"intern\",\"Noida\",3]])\n",
    "size=3;\n",
    "#addemployee(managementsystem,size)\n",
    "#name=input(\"enter name for performance\")\n",
    "#changeperformance(managementsys,name)\n",
    "salary=np.array([100000,150000,50000])\n",
    "maxi=np.max(salary)\n",
    "print(maxi)\n",
    "mini=np.min(salary)\n",
    "print(mini)\n",
    "per=np.array([4,4,3])\n",
    "plt.scatter(managementsys[:,0],per,color='red')"
   ]
  },
  {
   "cell_type": "code",
   "execution_count": null,
   "id": "2364b53e-f9ea-41a1-af0a-c4401a52ea2f",
   "metadata": {},
   "outputs": [],
   "source": []
  },
  {
   "cell_type": "code",
   "execution_count": null,
   "id": "ce4f7f8c-6990-45b2-9007-6a9384066a24",
   "metadata": {},
   "outputs": [],
   "source": []
  }
 ],
 "metadata": {
  "kernelspec": {
   "display_name": "Python 3 (ipykernel)",
   "language": "python",
   "name": "python3"
  },
  "language_info": {
   "codemirror_mode": {
    "name": "ipython",
    "version": 3
   },
   "file_extension": ".py",
   "mimetype": "text/x-python",
   "name": "python",
   "nbconvert_exporter": "python",
   "pygments_lexer": "ipython3",
   "version": "3.12.4"
  }
 },
 "nbformat": 4,
 "nbformat_minor": 5
}
